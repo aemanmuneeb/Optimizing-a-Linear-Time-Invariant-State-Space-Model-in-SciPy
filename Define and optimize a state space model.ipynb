{
  "nbformat": 4,
  "nbformat_minor": 0,
  "metadata": {
    "colab": {
      "name": "Copy of Quantitative PET FSPG Analysis in SciPy.ipynb",
      "provenance": [],
      "collapsed_sections": [],
      "authorship_tag": "ABX9TyOfl19bgAkLlrXqrA2qLLRe"
    },
    "kernelspec": {
      "name": "python3",
      "display_name": "Python 3"
    },
    "language_info": {
      "name": "python"
    }
  },
  "cells": [
    {
      "cell_type": "code",
      "source": [
        "#import packages for data generation and optimization\n",
        "import numpy as np\n",
        "import math\n",
        "import matplotlib.pyplot as splt\n",
        "from scipy import signal\n",
        "from scipy.optimize import curve_fit"
      ],
      "metadata": {
        "id": "PLT2sQVIgFbL"
      },
      "execution_count": 68,
      "outputs": []
    },
    {
      "cell_type": "code",
      "source": [
        "#Generate data for this example\n",
        "#Load experimental data into variables\n",
        "\n",
        "t = list(range(1,20+1))\n",
        "Y = list(map(lambda x: 2.5*(math.log(x)), t))\n",
        "U = list(map(lambda x: math.exp(0.05*x), t))\n",
        "\n",
        "plt.plot(t,U, color = 'crimson')\n",
        "plt.plot(t,Y, color = 'teal')"
      ],
      "metadata": {
        "colab": {
          "base_uri": "https://localhost:8080/",
          "height": 283
        },
        "id": "4uU7NpGZEDGr",
        "outputId": "33abe5db-97e3-4aa8-92a0-3c210318b882"
      },
      "execution_count": 70,
      "outputs": [
        {
          "output_type": "execute_result",
          "data": {
            "text/plain": [
              "[<matplotlib.lines.Line2D at 0x7fbc1a2fc610>]"
            ]
          },
          "metadata": {},
          "execution_count": 70
        },
        {
          "output_type": "display_data",
          "data": {
            "text/plain": [
              "<Figure size 432x288 with 1 Axes>"
            ],
            "image/png": "[encoded data removed]"
          },
          "metadata": {
            "needs_background": "light"
          }
        }
      ]
    },
    {
      "cell_type": "code",
      "metadata": {
        "id": "SIpXxaFha4EI"
      },
      "source": [
        "#Define LTI state-space model using matrices and parameters\n",
        "#For more information on expressing a system of equations into a state-space form to feed into the model, this is a good starting point:\n",
        "#http://web.mit.edu/2.14/www/Handouts/StateSpace.pdf\n",
        "#Scipy.signal is a tool to define a state-space model\n",
        "#Here,we define an arbitrary function with supposed parameters we want to estimate\n",
        "\n",
        "def function(ts,a1,a2,a3,a4): \n",
        "    A = np.asarray([[a1,1],\n",
        "                   [a2,0]])\n",
        "    B = np.asarray([[a3],[0]])\n",
        "    C = [1,1]\n",
        "    D = [a4]\n",
        "    model = signal.StateSpace(A,B,C,D)  \n",
        "    tout, yout, xout = signal.lsim(model, U, t)  \n",
        "    return (yout)   \n",
        "\n",
        "#The following link provides more examples and information on defining a model\n",
        "#https://docs.scipy.org/doc/scipy/reference/generated/scipy.signal.lsim.html"
      ],
      "execution_count": 78,
      "outputs": []
    },
    {
      "cell_type": "code",
      "source": [
        "#Fit the generated/experimental data to best fit curve; \n",
        "#Curve_fit uses least_sqaures optimization to find the best fit curve;\n",
        "\n",
        "#For more details, refer to SciPy documentation at\n",
        "#https://docs.scipy.org/doc/scipy/reference/generated/scipy.optimize.curve_fit.html\n",
        "\n",
        "popt, pcov = curve_fit(function, t, Y)       #popt holds the optimal values of the parameters, pcov holds the variances\n",
        "a1,a2,a3,a4 = popt                           #set the values of parameters equal to popt"
      ],
      "metadata": {
        "id": "TTT9qnGz2q5I"
      },
      "execution_count": 79,
      "outputs": []
    },
    {
      "cell_type": "code",
      "source": [
        "#Plot the best fit curve against generated/experimental data\n",
        "x_parameter = t\n",
        "y_parameter = function(x_parameter, a1,a2,a3,a4)\n",
        "plt.figure()\n",
        "plt.scatter(t, Y, marker='o', color='teal', label= 'generated data', s=20)\n",
        "plt.plot(x_parameter, y_parameter, '-', color=\"red\", label = 'fitted curve')\n",
        "plt.show()"
      ],
      "metadata": {
        "colab": {
          "base_uri": "https://localhost:8080/",
          "height": 336
        },
        "id": "kpIILTeAA4u5",
        "outputId": "a12feef0-6267-4091-c20d-41f7b2e761aa"
      },
      "execution_count": 81,
      "outputs": [
        {
          "output_type": "display_data",
          "data": {
            "text/plain": [
              "<Figure size 432x288 with 1 Axes>"
            ],
            "image/png": "[encoded data removed]"
          },
          "metadata": {
            "needs_background": "light"
          }
        },
        {
          "output_type": "stream",
          "name": "stdout",
          "text": [
            "a1 = -7.446789177153012\n",
            "a2 = -5.9605154725340075\n",
            "a3 = -3.367442093100506\n",
            "a4 = 0.0006801537968749618\n"
          ]
        }
      ]
    },
    {
      "cell_type": "code",
      "source": [
        "#Estimated parameters from fitted curve\n",
        "print ('a1 = ' + str(a1))\n",
        "print ('a2 = ' + str(a2))\n",
        "print ('a3 = ' + str(a3))\n",
        "print ('a4 = ' + str(a4))"
      ],
      "metadata": {
        "id": "_Ar9_5HX2MdP"
      },
      "execution_count": null,
      "outputs": []
    }
  ]
}