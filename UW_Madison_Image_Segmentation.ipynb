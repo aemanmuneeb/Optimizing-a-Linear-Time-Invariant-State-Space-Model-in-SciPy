{
  "nbformat": 4,
  "nbformat_minor": 0,
  "metadata": {
    "colab": {
      "name": "UW Madison Image Segmentation.ipynb",
      "provenance": [],
      "collapsed_sections": [],
      "machine_shape": "hm",
      "authorship_tag": "ABX9TyNP+QVbJ9wNnKUE6ElvseB9",
      "include_colab_link": true
    },
    "kernelspec": {
      "name": "python3",
      "display_name": "Python 3"
    },
    "language_info": {
      "name": "python"
    }
  },
  "cells": [
    {
      "cell_type": "markdown",
      "metadata": {
        "id": "view-in-github",
        "colab_type": "text"
      },
      "source": [
        "<a href=\"https://colab.research.google.com/github/aemanmuneeb/Optimizing-a-Linear-Time-Invariant-State-Space-Model-in-SciPy/blob/main/UW_Madison_Image_Segmentation.ipynb\" target=\"_parent\"><img src=\"https://colab.research.google.com/assets/colab-badge.svg\" alt=\"Open In Colab\"/></a>"
      ]
    },
    {
      "cell_type": "code",
      "execution_count": 1,
      "metadata": {
        "colab": {
          "base_uri": "https://localhost:8080/"
        },
        "id": "qNeRhnr6ytNl",
        "outputId": "85acba08-48da-4fc0-a0a6-d0c447920b0e"
      },
      "outputs": [
        {
          "output_type": "stream",
          "name": "stdout",
          "text": [
            "Looking in indexes: https://pypi.org/simple, https://us-python.pkg.dev/colab-wheels/public/simple/\n",
            "Requirement already satisfied: kaggle in /usr/local/lib/python3.7/dist-packages (1.5.12)\n",
            "Requirement already satisfied: python-dateutil in /usr/local/lib/python3.7/dist-packages (from kaggle) (2.8.2)\n",
            "Requirement already satisfied: tqdm in /usr/local/lib/python3.7/dist-packages (from kaggle) (4.64.0)\n",
            "Requirement already satisfied: python-slugify in /usr/local/lib/python3.7/dist-packages (from kaggle) (6.1.2)\n",
            "Requirement already satisfied: urllib3 in /usr/local/lib/python3.7/dist-packages (from kaggle) (1.24.3)\n",
            "Requirement already satisfied: certifi in /usr/local/lib/python3.7/dist-packages (from kaggle) (2022.6.15)\n",
            "Requirement already satisfied: six>=1.10 in /usr/local/lib/python3.7/dist-packages (from kaggle) (1.15.0)\n",
            "Requirement already satisfied: requests in /usr/local/lib/python3.7/dist-packages (from kaggle) (2.23.0)\n",
            "Requirement already satisfied: text-unidecode>=1.3 in /usr/local/lib/python3.7/dist-packages (from python-slugify->kaggle) (1.3)\n",
            "Requirement already satisfied: chardet<4,>=3.0.2 in /usr/local/lib/python3.7/dist-packages (from requests->kaggle) (3.0.4)\n",
            "Requirement already satisfied: idna<3,>=2.5 in /usr/local/lib/python3.7/dist-packages (from requests->kaggle) (2.10)\n",
            "Downloading uw-madison-gi-tract-image-segmentation.zip to /content\n",
            " 99% 2.27G/2.30G [00:15<00:00, 195MB/s]\n",
            "100% 2.30G/2.30G [00:15<00:00, 159MB/s]\n"
          ]
        }
      ],
      "source": [
        "!pip install kaggle\n",
        "!mkdir ~/.kaggle\n",
        "!cp kaggle.json ~/.kaggle/\n",
        "!chmod 600 ~/.kaggle/kaggle.json\n",
        "!kaggle competitions download uw-madison-gi-tract-image-segmentation"
      ]
    },
    {
      "cell_type": "code",
      "source": [
        "import shutil\n",
        "shutil.unpack_archive(\"/content/uw-madison-gi-tract-image-segmentation.zip\", \"uw-madison-gi-tract-image-segmentation\")"
      ],
      "metadata": {
        "id": "1ClsGY3J0tKk"
      },
      "execution_count": 2,
      "outputs": []
    },
    {
      "cell_type": "code",
      "source": [
        "import numpy as np # linear algebra\n",
        "import pandas as pd # data processing, CSV file I/O (e.g. pd.read_csv)\n",
        "\n",
        "import PIL.Image, PIL.ImageFont, PIL.ImageDraw\n",
        "from matplotlib import pyplot as plt\n",
        "from imageio import imread\n",
        "from glob import glob\n",
        "\n",
        "import tensorflow as tf\n",
        "from tensorflow.keras.preprocessing import image_dataset_from_directory\n",
        "from sklearn.model_selection import train_test_split\n",
        "\n",
        "print(\"Tensorflow version \" + tf.__version__)\n",
        "\n",
        "import os\n",
        "for dirname, _, filenames in os.walk('/kaggle/input'):\n",
        "    for filename in filenames:\n",
        "        os.path.join(dirname, filename)"
      ],
      "metadata": {
        "id": "L-XxSXoiz4HL",
        "colab": {
          "base_uri": "https://localhost:8080/"
        },
        "outputId": "b1c68633-67d0-4570-bfc4-dba69a538d8a"
      },
      "execution_count": 3,
      "outputs": [
        {
          "output_type": "stream",
          "name": "stdout",
          "text": [
            "Tensorflow version 2.8.2\n"
          ]
        }
      ]
    },
    {
      "cell_type": "code",
      "source": [
        "df = pd.read_csv(\"/content/uw-madison-gi-tract-image-segmentation/train.csv\")\n",
        "df = df.fillna('0')"
      ],
      "metadata": {
        "id": "tnugWKhJ0C07"
      },
      "execution_count": 4,
      "outputs": []
    },
    {
      "cell_type": "code",
      "source": [
        "#Preprocess dataset and get relevant colums of information\n",
        "df['CaseID'] = df.id.apply(lambda x : str(x).split(\"_\")[0][4:])\n",
        "df['Day'] = df.id.apply(lambda x : str(x).split(\"_\")[1][3:])\n",
        "df['SliceNo'] = df.id.apply(lambda x : str(x).split(\"_\")[3])\n",
        "\n",
        "train_path = \"/content/uw-madison-gi-tract-image-segmentation/train\"\n",
        "\n",
        "def fetch_file(root_dir, id):\n",
        "    cases = id.split(\"_\")[0]\n",
        "    days = \"_\".join(id.split(\"_\")[:2])\n",
        "    files = \"_\".join(id.split(\"_\")[2:])\n",
        "    folder = os.path.join(root_dir, cases, days, \"scans\")\n",
        "    file = glob(f\"{folder}/{files}*\")\n",
        "    return file[0]\n",
        "df[\"path\"] = df[\"id\"].apply(lambda x: fetch_file(train_path, x))\n",
        "\n",
        "df[\"image_height\"] = df[\"path\"].apply(lambda x: os.path.split(x)[-1].split(\"_\")[2]).astype(\"int\")\n",
        "df[\"image_width\"] = df[\"path\"].apply(lambda x: os.path.split(x)[-1].split(\"_\")[3]).astype(\"int\")\n",
        "\n",
        "df.head()\n"
      ],
      "metadata": {
        "colab": {
          "base_uri": "https://localhost:8080/",
          "height": 250
        },
        "id": "e-YSziiH11y_",
        "outputId": "874c519e-bdd1-4a6d-d068-c6eef4396a3d"
      },
      "execution_count": 5,
      "outputs": [
        {
          "output_type": "execute_result",
          "data": {
            "text/plain": [
              "                         id        class segmentation CaseID Day SliceNo  \\\n",
              "0  case123_day20_slice_0001  large_bowel            0    123  20    0001   \n",
              "1  case123_day20_slice_0001  small_bowel            0    123  20    0001   \n",
              "2  case123_day20_slice_0001      stomach            0    123  20    0001   \n",
              "3  case123_day20_slice_0002  large_bowel            0    123  20    0002   \n",
              "4  case123_day20_slice_0002  small_bowel            0    123  20    0002   \n",
              "\n",
              "                                                path  image_height  \\\n",
              "0  /content/uw-madison-gi-tract-image-segmentatio...           266   \n",
              "1  /content/uw-madison-gi-tract-image-segmentatio...           266   \n",
              "2  /content/uw-madison-gi-tract-image-segmentatio...           266   \n",
              "3  /content/uw-madison-gi-tract-image-segmentatio...           266   \n",
              "4  /content/uw-madison-gi-tract-image-segmentatio...           266   \n",
              "\n",
              "   image_width  \n",
              "0          266  \n",
              "1          266  \n",
              "2          266  \n",
              "3          266  \n",
              "4          266  "
            ],
            "text/html": [
              "\n",
              "  <div id=\"df-08589f66-9788-4e41-82c4-9126571e648a\">\n",
              "    <div class=\"colab-df-container\">\n",
              "      <div>\n",
              "<style scoped>\n",
              "    .dataframe tbody tr th:only-of-type {\n",
              "        vertical-align: middle;\n",
              "    }\n",
              "\n",
              "    .dataframe tbody tr th {\n",
              "        vertical-align: top;\n",
              "    }\n",
              "\n",
              "    .dataframe thead th {\n",
              "        text-align: right;\n",
              "    }\n",
              "</style>\n",
              "<table border=\"1\" class=\"dataframe\">\n",
              "  <thead>\n",
              "    <tr style=\"text-align: right;\">\n",
              "      <th></th>\n",
              "      <th>id</th>\n",
              "      <th>class</th>\n",
              "      <th>segmentation</th>\n",
              "      <th>CaseID</th>\n",
              "      <th>Day</th>\n",
              "      <th>SliceNo</th>\n",
              "      <th>path</th>\n",
              "      <th>image_height</th>\n",
              "      <th>image_width</th>\n",
              "    </tr>\n",
              "  </thead>\n",
              "  <tbody>\n",
              "    <tr>\n",
              "      <th>0</th>\n",
              "      <td>case123_day20_slice_0001</td>\n",
              "      <td>large_bowel</td>\n",
              "      <td>0</td>\n",
              "      <td>123</td>\n",
              "      <td>20</td>\n",
              "      <td>0001</td>\n",
              "      <td>/content/uw-madison-gi-tract-image-segmentatio...</td>\n",
              "      <td>266</td>\n",
              "      <td>266</td>\n",
              "    </tr>\n",
              "    <tr>\n",
              "      <th>1</th>\n",
              "      <td>case123_day20_slice_0001</td>\n",
              "      <td>small_bowel</td>\n",
              "      <td>0</td>\n",
              "      <td>123</td>\n",
              "      <td>20</td>\n",
              "      <td>0001</td>\n",
              "      <td>/content/uw-madison-gi-tract-image-segmentatio...</td>\n",
              "      <td>266</td>\n",
              "      <td>266</td>\n",
              "    </tr>\n",
              "    <tr>\n",
              "      <th>2</th>\n",
              "      <td>case123_day20_slice_0001</td>\n",
              "      <td>stomach</td>\n",
              "      <td>0</td>\n",
              "      <td>123</td>\n",
              "      <td>20</td>\n",
              "      <td>0001</td>\n",
              "      <td>/content/uw-madison-gi-tract-image-segmentatio...</td>\n",
              "      <td>266</td>\n",
              "      <td>266</td>\n",
              "    </tr>\n",
              "    <tr>\n",
              "      <th>3</th>\n",
              "      <td>case123_day20_slice_0002</td>\n",
              "      <td>large_bowel</td>\n",
              "      <td>0</td>\n",
              "      <td>123</td>\n",
              "      <td>20</td>\n",
              "      <td>0002</td>\n",
              "      <td>/content/uw-madison-gi-tract-image-segmentatio...</td>\n",
              "      <td>266</td>\n",
              "      <td>266</td>\n",
              "    </tr>\n",
              "    <tr>\n",
              "      <th>4</th>\n",
              "      <td>case123_day20_slice_0002</td>\n",
              "      <td>small_bowel</td>\n",
              "      <td>0</td>\n",
              "      <td>123</td>\n",
              "      <td>20</td>\n",
              "      <td>0002</td>\n",
              "      <td>/content/uw-madison-gi-tract-image-segmentatio...</td>\n",
              "      <td>266</td>\n",
              "      <td>266</td>\n",
              "    </tr>\n",
              "  </tbody>\n",
              "</table>\n",
              "</div>\n",
              "      <button class=\"colab-df-convert\" onclick=\"convertToInteractive('df-08589f66-9788-4e41-82c4-9126571e648a')\"\n",
              "              title=\"Convert this dataframe to an interactive table.\"\n",
              "              style=\"display:none;\">\n",
              "        \n",
              "  <svg xmlns=\"http://www.w3.org/2000/svg\" height=\"24px\"viewBox=\"0 0 24 24\"\n",
              "       width=\"24px\">\n",
              "    <path d=\"M0 0h24v24H0V0z\" fill=\"none\"/>\n",
              "    <path d=\"M18.56 5.44l.94 2.06.94-2.06 2.06-.94-2.06-.94-.94-2.06-.94 2.06-2.06.94zm-11 1L8.5 8.5l.94-2.06 2.06-.94-2.06-.94L8.5 2.5l-.94 2.06-2.06.94zm10 10l.94 2.06.94-2.06 2.06-.94-2.06-.94-.94-2.06-.94 2.06-2.06.94z\"/><path d=\"M17.41 7.96l-1.37-1.37c-.4-.4-.92-.59-1.43-.59-.52 0-1.04.2-1.43.59L10.3 9.45l-7.72 7.72c-.78.78-.78 2.05 0 2.83L4 21.41c.39.39.9.59 1.41.59.51 0 1.02-.2 1.41-.59l7.78-7.78 2.81-2.81c.8-.78.8-2.07 0-2.86zM5.41 20L4 18.59l7.72-7.72 1.47 1.35L5.41 20z\"/>\n",
              "  </svg>\n",
              "      </button>\n",
              "      \n",
              "  <style>\n",
              "    .colab-df-container {\n",
              "      display:flex;\n",
              "      flex-wrap:wrap;\n",
              "      gap: 12px;\n",
              "    }\n",
              "\n",
              "    .colab-df-convert {\n",
              "      background-color: #E8F0FE;\n",
              "      border: none;\n",
              "      border-radius: 50%;\n",
              "      cursor: pointer;\n",
              "      display: none;\n",
              "      fill: #1967D2;\n",
              "      height: 32px;\n",
              "      padding: 0 0 0 0;\n",
              "      width: 32px;\n",
              "    }\n",
              "\n",
              "    .colab-df-convert:hover {\n",
              "      background-color: #E2EBFA;\n",
              "      box-shadow: 0px 1px 2px rgba(60, 64, 67, 0.3), 0px 1px 3px 1px rgba(60, 64, 67, 0.15);\n",
              "      fill: #174EA6;\n",
              "    }\n",
              "\n",
              "    [theme=dark] .colab-df-convert {\n",
              "      background-color: #3B4455;\n",
              "      fill: #D2E3FC;\n",
              "    }\n",
              "\n",
              "    [theme=dark] .colab-df-convert:hover {\n",
              "      background-color: #434B5C;\n",
              "      box-shadow: 0px 1px 3px 1px rgba(0, 0, 0, 0.15);\n",
              "      filter: drop-shadow(0px 1px 2px rgba(0, 0, 0, 0.3));\n",
              "      fill: #FFFFFF;\n",
              "    }\n",
              "  </style>\n",
              "\n",
              "      <script>\n",
              "        const buttonEl =\n",
              "          document.querySelector('#df-08589f66-9788-4e41-82c4-9126571e648a button.colab-df-convert');\n",
              "        buttonEl.style.display =\n",
              "          google.colab.kernel.accessAllowed ? 'block' : 'none';\n",
              "\n",
              "        async function convertToInteractive(key) {\n",
              "          const element = document.querySelector('#df-08589f66-9788-4e41-82c4-9126571e648a');\n",
              "          const dataTable =\n",
              "            await google.colab.kernel.invokeFunction('convertToInteractive',\n",
              "                                                     [key], {});\n",
              "          if (!dataTable) return;\n",
              "\n",
              "          const docLinkHtml = 'Like what you see? Visit the ' +\n",
              "            '<a target=\"_blank\" href=https://colab.research.google.com/notebooks/data_table.ipynb>data table notebook</a>'\n",
              "            + ' to learn more about interactive tables.';\n",
              "          element.innerHTML = '';\n",
              "          dataTable['output_type'] = 'display_data';\n",
              "          await google.colab.output.renderOutput(dataTable, element);\n",
              "          const docLink = document.createElement('div');\n",
              "          docLink.innerHTML = docLinkHtml;\n",
              "          element.appendChild(docLink);\n",
              "        }\n",
              "      </script>\n",
              "    </div>\n",
              "  </div>\n",
              "  "
            ]
          },
          "metadata": {},
          "execution_count": 5
        }
      ]
    },
    {
      "cell_type": "code",
      "source": [
        "def rle_decode(segmentation, image_width, image_height, image_class):\n",
        "    s = segmentation.split()\n",
        "    starts, lengths = [np.asarray(x, dtype=int) for x in ((s[0::2]), s[1::2])]\n",
        "    ends = starts + lengths\n",
        "    mask = np.zeros(image_width*image_height, dtype=np.uint8)\n",
        "    for start,end in zip(starts, ends):\n",
        "        mask[start:end] = 1\n",
        "    return mask.reshape(image_width,image_height)"
      ],
      "metadata": {
        "id": "L-WelZns2GXy"
      },
      "execution_count": 6,
      "outputs": []
    },
    {
      "cell_type": "code",
      "source": [
        "masks = (df['segmentation'].tolist())\n",
        "image_heights = (df['image_height'].tolist())\n",
        "image_widths = (df['image_width'].tolist())\n",
        "image_class = (df['class'].tolist())\n",
        "path = (df['path'].tolist())"
      ],
      "metadata": {
        "id": "Z2ZJ_02i3xCB"
      },
      "execution_count": 7,
      "outputs": []
    },
    {
      "cell_type": "code",
      "source": [
        "image_info = list(zip(masks, image_widths, image_heights, image_class))\n",
        "processedMasks = list(map(lambda x : rle_decode(x[0], x[1], x[2], x[3]), image_info))"
      ],
      "metadata": {
        "id": "Stb5TXcE2JcN"
      },
      "execution_count": 8,
      "outputs": []
    },
    {
      "cell_type": "code",
      "source": [
        "import cv2\n",
        "\n",
        "def read_image(path):\n",
        "    image = cv2.imread(path, cv2.IMREAD_UNCHANGED).astype('float32')\n",
        "    image = cv2.normalize(image, None, alpha = 0, beta = 255, \n",
        "                        norm_type = cv2.NORM_MINMAX, dtype = cv2.CV_32F)\n",
        "    image = image.astype(np.uint8)    \n",
        "    return image"
      ],
      "metadata": {
        "id": "nEJVoz9cBbwI"
      },
      "execution_count": 9,
      "outputs": []
    },
    {
      "cell_type": "code",
      "source": [
        "train_images = list(map(lambda x : read_image(x), path))"
      ],
      "metadata": {
        "id": "wFgHDEQB6AEi"
      },
      "execution_count": 10,
      "outputs": []
    },
    {
      "cell_type": "code",
      "source": [
        "img_index = 41120\n",
        "\n",
        "plt.imshow(train_images[img_index])\n",
        "plt.imshow(processedMasks[img_index], alpha = 0.3)\n",
        "print(image_info[img_index][3])"
      ],
      "metadata": {
        "colab": {
          "base_uri": "https://localhost:8080/",
          "height": 286
        },
        "id": "NvoKTisVC5Sb",
        "outputId": "fdb47d24-3a4a-4c14-c0b4-41545fa38b0c"
      },
      "execution_count": 20,
      "outputs": [
        {
          "output_type": "stream",
          "name": "stdout",
          "text": [
            "stomach\n"
          ]
        },
        {
          "output_type": "display_data",
          "data": {
            "text/plain": [
              "<Figure size 432x288 with 1 Axes>"
            ],
            "image/png": "[encoded data removed]"
          },
          "metadata": {
            "needs_background": "light"
          }
        }
      ]
    },
    {
      "cell_type": "code",
      "source": [
        "#allFiles = [path]\n",
        "\n",
        "#'images/file1.txt', 'annotations/file1.txt'\n",
        "#'images/file2.txt', 'annotations/file2.txt'\n",
        "\n",
        "# for imageFile, annotationFile in zip(list(map(lambda x : os.path.join('images', x))), list(map(lambda x : os.path.join('annoations', x)))):\n",
        "#   with open('images.txt', 'w') as imageFile, open('annotations.txt', 'w') as annotationFile:\n",
        "#     annotationFile.write(\"something\")\n",
        "\n",
        "#with open('images.txt', 'w') as imageFile, open('annotations.txt', 'w') as annotationFile:\n",
        "#  annotationFile.write(\"something\")\n"
      ],
      "metadata": {
        "id": "VWVpA32COsFc"
      },
      "execution_count": 12,
      "outputs": []
    }
  ]
}